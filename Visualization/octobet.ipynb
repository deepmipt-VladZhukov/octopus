{
 "cells": [
  {
   "cell_type": "code",
   "execution_count": 66,
   "metadata": {
    "collapsed": true
   },
   "outputs": [],
   "source": [
    "import sqlite3\n",
    "import sys\n",
    "sys.path.append(\"..\")\n",
    "import json\n",
    "from Visualization.bookmakers import get_bookmakers_coef\n",
    "con = sqlite3.connect('../data/on_court.db')\n",
    "cursor = con.cursor()\n",
    "from matplotlib import pyplot as plt\n",
    "%matplotlib inline\n",
    "import pandas as pd\n",
    "import numpy as np\n",
    "from math import sqrt\n",
    "from trueskill import BETA\n",
    "from trueskill.backends import cdf\n",
    "import progressbar\n",
    "import numpy as np\n",
    "import pandas as pd\n",
    "from trueskill import Rating, rate_1vs1\n",
    "\n",
    "def win_probability(player_rating, opponent_rating):\n",
    "    delta_mu = player_rating.mu - opponent_rating.mu\n",
    "    denom = sqrt(2 * (BETA * BETA) + pow(player_rating.sigma, 2) + pow(opponent_rating.sigma, 2))\n",
    "    return cdf(delta_mu / denom)"
   ]
  },
  {
   "cell_type": "code",
   "execution_count": 67,
   "metadata": {
    "collapsed": true
   },
   "outputs": [],
   "source": [
    "odds = pd.read_csv('../data/odds_atp.csv')\n",
    "games = pd.read_csv('../data/games_atp.csv')\n",
    "games_with_odds = pd.merge(odds, games, how='inner', \n",
    "                           left_on=['ID1_O', 'ID2_O', 'ID_T_O', 'ID_R_O'], \n",
    "                           right_on=['ID1_G', 'ID2_G', 'ID_T_G', 'ID_R_G'])\n",
    "games = games.as_matrix()\n",
    "max_id = max(games[:, 0].max(), games[:, 1].max()) + 1\n",
    "ratings = [Rating() for i in range(max_id)]"
   ]
  },
  {
   "cell_type": "code",
   "execution_count": 69,
   "metadata": {
    "collapsed": true
   },
   "outputs": [],
   "source": [
    "data_ar_to_csv = []\n",
    "for ii, i in enumerate(ratings):\n",
    "    data_ar_to_csv.append([ii, i.mu, i.sigma])\n",
    "npar_data = np.array(data_ar_to_csv)\n",
    "csv_to_save = pd.DataFrame(data = npar_data, columns=['ID', 'mu', 'sigma'])\n",
    "csv_to_save.to_csv('octorate.csv')"
   ]
  },
  {
   "cell_type": "code",
   "execution_count": 57,
   "metadata": {
    "collapsed": false,
    "scrolled": true
   },
   "outputs": [
    {
     "name": "stderr",
     "output_type": "stream",
     "text": [
      " 89% (608546 of 676393) |###################################    | Elapsed Time: 0:04:53 ETA: 0:00:32"
     ]
    }
   ],
   "source": [
    "bar = progressbar.ProgressBar(max_value=len(games))\n",
    "for ii, i in enumerate(games[:int(len(games) * 0.9)]):\n",
    "    bar.update(ii)\n",
    "    ratings[i[0]], ratings[i[1]] = rate_1vs1(ratings[i[0]], ratings[i[1]])"
   ]
  },
  {
   "cell_type": "code",
   "execution_count": 70,
   "metadata": {
    "collapsed": true
   },
   "outputs": [],
   "source": [
    "games_with_odds_test = games_with_odds.tail(10000)"
   ]
  },
  {
   "cell_type": "code",
   "execution_count": 71,
   "metadata": {
    "collapsed": true
   },
   "outputs": [],
   "source": [
    "id1 = np.array(games_with_odds_test['ID1_G'])\n",
    "id2 = np.array(games_with_odds_test['ID2_G'])\n",
    "k1 = np.array(games_with_odds_test['K1'])\n",
    "k2 = np.array(games_with_odds_test['K2'])"
   ]
  },
  {
   "cell_type": "code",
   "execution_count": 72,
   "metadata": {
    "collapsed": true
   },
   "outputs": [],
   "source": [
    "bookmaker_prob = 1 - k1 / (k1 + k2)"
   ]
  },
  {
   "cell_type": "code",
   "execution_count": 73,
   "metadata": {
    "collapsed": true
   },
   "outputs": [],
   "source": [
    "octoprob = []\n",
    "for i1, i2 in zip(id1, id2):\n",
    "    octoprob.append(win_probability(ratings[i1], ratings[i2]))"
   ]
  },
  {
   "cell_type": "code",
   "execution_count": 74,
   "metadata": {
    "collapsed": false
   },
   "outputs": [
    {
     "name": "stdout",
     "output_type": "stream",
     "text": [
      "143.16500046 1.70434524357\n"
     ]
    }
   ],
   "source": [
    "cnt = 0\n",
    "cnt_bet = 0\n",
    "bablo = 1\n",
    "i = 0\n",
    "bbbl = []\n",
    "for o, b in zip(octoprob, bookmaker_prob):\n",
    "    o_c = 1 if o > 0.5 else 0.\n",
    "    b_c = 1 if b > 0.5 else 0.\n",
    "    if (o_c and k1[i] > 2.9 or not o_c and k2[i] > 2.9) \\\n",
    "    and ((k1[i] > k2[i] and o > 0.45) or (k1[i] < k2[i] and o < 0.55)):\n",
    "        cnt_bet += 1\n",
    "        if k1[i] > k2[i]:\n",
    "            cnt += 1\n",
    "            bablo += k1[i] - 1\n",
    "        else:\n",
    "            bablo -=1\n",
    "    bbbl.append(bablo)\n",
    "    i += 1\n",
    "print (bablo, bablo / cnt)"
   ]
  },
  {
   "cell_type": "code",
   "execution_count": 75,
   "metadata": {
    "collapsed": false,
    "scrolled": true
   },
   "outputs": [
    {
     "data": {
      "text/plain": [
       "[<matplotlib.lines.Line2D at 0x110ae7240>]"
      ]
     },
     "execution_count": 75,
     "metadata": {},
     "output_type": "execute_result"
    },
    {
     "data": {
      "image/png": "[encoded data removed]",
      "text/plain": [
       "<matplotlib.figure.Figure at 0x10a3904a8>"
      ]
     },
     "metadata": {},
     "output_type": "display_data"
    }
   ],
   "source": [
    "bbbl = np.array(bbbl)\n",
    "plt.figure(figsize=(10, 8))\n",
    "plt.plot(range(len(bbbl)),bbbl)"
   ]
  },
  {
   "cell_type": "code",
   "execution_count": 93,
   "metadata": {
    "collapsed": false
   },
   "outputs": [],
   "source": [
    "octorate = pd.read_csv('octorate.csv')"
   ]
  },
  {
   "cell_type": "code",
   "execution_count": 94,
   "metadata": {
    "collapsed": false
   },
   "outputs": [],
   "source": [
    "import sys\n",
    "sys.path.append(\"..\")\n",
    "from Model.octorate import win_probability_by_rate\n",
    "def win_prob_from_csv(octorate, pid1, pid2):\n",
    "    p1 = octorate[octorate['ID']==pid1].as_matrix()[0]\n",
    "    p2 = octorate[octorate['ID']==pid2].as_matrix()[0]\n",
    "    return win_probability_by_rate(Rating(mu=p1[1], sigma=p1[2]), Rating(mu=p2[1], sigma=p2[2]))\n"
   ]
  },
  {
   "cell_type": "code",
   "execution_count": 96,
   "metadata": {
    "collapsed": false
   },
   "outputs": [
    {
     "data": {
      "text/plain": [
       "0.66883328915873075"
      ]
     },
     "execution_count": 96,
     "metadata": {},
     "output_type": "execute_result"
    }
   ],
   "source": [
    "win_prob_from_csv(octorate, 27, 9)"
   ]
  }
 ],
 "metadata": {
  "kernelspec": {
   "display_name": "py3.4",
   "language": "python",
   "name": "py3.4"
  },
  "language_info": {
   "codemirror_mode": {
    "name": "ipython",
    "version": 3
   },
   "file_extension": ".py",
   "mimetype": "text/x-python",
   "name": "python",
   "nbconvert_exporter": "python",
   "pygments_lexer": "ipython3",
   "version": "3.4.1"
  }
 },
 "nbformat": 4,
 "nbformat_minor": 1
}
