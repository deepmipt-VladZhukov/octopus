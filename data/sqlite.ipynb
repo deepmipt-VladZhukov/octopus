{
 "cells": [
  {
   "cell_type": "code",
   "execution_count": 1,
   "metadata": {
    "collapsed": true
   },
   "outputs": [],
   "source": [
    "import pandas as pd\n",
    "import numpy as np\n",
    "import sqlite3"
   ]
  },
  {
   "cell_type": "code",
   "execution_count": 2,
   "metadata": {
    "collapsed": false
   },
   "outputs": [
    {
     "name": "stdout",
     "output_type": "stream",
     "text": [
      "categories_atp.csv injury_atp.csv     points.csv         stat_wta.csv\r\n",
      "categories_mxt.csv injury_wta.csv     ratings_atp.csv    today_atp.csv\r\n",
      "categories_wta.csv links.csv          ratings_wta.csv    today_mxt.csv\r\n",
      "courts.csv         odds_atp.csv       rounds.csv         today_wta.csv\r\n",
      "facts_atp.csv      odds_mxt.csv       seed_atp.csv       tours_atp.csv\r\n",
      "facts_wta.csv      odds_wta.csv       seed_mxt.csv       tours_mxt.csv\r\n",
      "games_atp.csv      players_atp.csv    seed_wta.csv       tours_wta.csv\r\n",
      "games_mxt.csv      players_mxt.csv    stat_atp.csv       url.csv\r\n",
      "games_wta.csv      players_wta.csv    stat_mxt.csv       version.csv\r\n"
     ]
    }
   ],
   "source": [
    "!ls dataset/"
   ]
  },
  {
   "cell_type": "code",
   "execution_count": 91,
   "metadata": {
    "collapsed": false
   },
   "outputs": [
    {
     "data": {
      "text/plain": [
       "(115, 105, 1, 12, '6-2 6-1', None)"
      ]
     },
     "execution_count": 91,
     "metadata": {},
     "output_type": "execute_result"
    }
   ],
   "source": [
    "# захерачить это в самом верху, чтобы cursor был глобальной переменной, и делать con.close() только в самом конце\n",
    "\n",
    "import sqlite3\n",
    "con = sqlite3.connect('on_court.db')\n",
    "cursor = con.cursor()\n",
    "\n",
    "cursor.execute(\"SELECT * FROM sqlite_master\")\n",
    "schema = cursor.fetchall() # можно вывести схему (правда там нет forign key-ев)\n",
    "\n",
    "query = 'select * from games_atp where ID1_G={id_}'\n",
    "query = query.format(id_=115)\n",
    "cursor.execute(query).fetchone()\n",
    "# >> (115, 105, 1, 12, '6-2 6-1', None)\n",
    "\n",
    "# если делали alter/create/insert into table:\n",
    "# con.commit()\n",
    "\n",
    "con.close()"
   ]
  },
  {
   "cell_type": "code",
   "execution_count": 90,
   "metadata": {
    "collapsed": false
   },
   "outputs": [
    {
     "data": {
      "text/plain": [
       "(115, 105, 1, 12, '6-2 6-1', None)"
      ]
     },
     "execution_count": 90,
     "metadata": {},
     "output_type": "execute_result"
    }
   ],
   "source": [
    "query = 'select * from games_atp where ID1_G={id}'\n",
    "query = query.format(id=115)\n",
    "cursor.execute(query).fetchone()"
   ]
  },
  {
   "cell_type": "code",
   "execution_count": 10,
   "metadata": {
    "collapsed": false
   },
   "outputs": [],
   "source": [
    "cursor.execute(\"SELECT * FROM sqlite_master\")\n",
    "schema = cursor.fetchall()"
   ]
  },
  {
   "cell_type": "code",
   "execution_count": 60,
   "metadata": {
    "collapsed": false,
    "scrolled": true
   },
   "outputs": [
    {
     "name": "stdout",
     "output_type": "stream",
     "text": [
      "\n",
      "categories_atp\n",
      "ID_P | CAT1 | CAT2 | CAT3 | CAT4 | CAT5 | CAT6 | CAT7 | CAT8 | CAT9 | CAT10 | CAT11 | CAT12 | CAT13 | CAT14 | CAT15 | CAT16 | CAT17 | CAT18 | CAT19 | CAT20 | CAT21 | CAT22 | CAT23 | CAT24 | CAT25 | CAT26 | CAT27 | CAT28 | CAT29 | CAT30\n",
      "CREATE INDEX IF NOT EXISTS index_ID_P_categories_atp ON categories_atp(ID_P);\n",
      "\n",
      "categories_mxt\n",
      "ID_P | CAT1 | CAT2 | CAT3 | CAT4 | CAT5 | CAT6 | CAT7 | CAT8 | CAT9 | CAT10 | CAT11 | CAT12 | CAT13 | CAT14 | CAT15 | CAT16 | CAT17 | CAT18 | CAT19 | CAT20 | CAT21 | CAT22 | CAT23 | CAT24 | CAT25 | CAT26 | CAT27 | CAT28 | CAT29 | CAT30\n",
      "CREATE INDEX IF NOT EXISTS index_ID_P_categories_mxt ON categories_mxt(ID_P);\n",
      "\n",
      "categories_wta\n",
      "ID_P | CAT1 | CAT2 | CAT3 | CAT4 | CAT5 | CAT6 | CAT7 | CAT8 | CAT9 | CAT10 | CAT11 | CAT12 | CAT13 | CAT14 | CAT15 | CAT16 | CAT17 | CAT18 | CAT19 | CAT20 | CAT21 | CAT22 | CAT23 | CAT24 | CAT25 | CAT26 | CAT27 | CAT28 | CAT29 | CAT30\n",
      "CREATE INDEX IF NOT EXISTS index_ID_P_categories_wta ON categories_wta(ID_P);\n",
      "\n",
      "facts_atp\n",
      "ID_P_F | YEAR_F | TMW_F | TML_F | TBW_F | TBL_F | MF_F | ACES_F | DF_F | SRV1_F | WON1_F | WON2_F | SGW_F | BPS_F | PWR1S_F | PWR2S_F | BPW_F | RGW_F | PRIZE_F\n",
      "CREATE INDEX IF NOT EXISTS index_ID_P_F_facts_atp ON facts_atp(ID_P_F);\n",
      "\n",
      "facts_wta\n",
      "ID_P_F | YEAR_F | TMW_F | TML_F | TBW_F | TBL_F | MF_F | ACES_F | DF_F | SRV1_F | WON1_F | WON2_F | SGW_F | BPS_F | PWR1S_F | PWR2S_F | BPW_F | RGW_F | PRIZE_F\n",
      "CREATE INDEX IF NOT EXISTS index_ID_P_F_facts_wta ON facts_wta(ID_P_F);\n",
      "\n",
      "games_atp\n",
      "ID1_G | ID2_G | ID_T_G | ID_R_G | RESULT_G\n",
      "CREATE INDEX IF NOT EXISTS index_ID1_G_games_atp ON games_atp(ID1_G);\n",
      "CREATE INDEX IF NOT EXISTS index_ID2_G_games_atp ON games_atp(ID2_G);\n",
      "CREATE INDEX IF NOT EXISTS index_ID_T_G_games_atp ON games_atp(ID_T_G);\n",
      "CREATE INDEX IF NOT EXISTS index_ID_R_G_games_atp ON games_atp(ID_R_G);\n",
      "\n",
      "games_mxt\n",
      "ID1_G | ID2_G | ID_T_G | ID_R_G | RESULT_G\n",
      "CREATE INDEX IF NOT EXISTS index_ID1_G_games_mxt ON games_mxt(ID1_G);\n",
      "CREATE INDEX IF NOT EXISTS index_ID2_G_games_mxt ON games_mxt(ID2_G);\n",
      "CREATE INDEX IF NOT EXISTS index_ID_T_G_games_mxt ON games_mxt(ID_T_G);\n",
      "CREATE INDEX IF NOT EXISTS index_ID_R_G_games_mxt ON games_mxt(ID_R_G);\n",
      "\n",
      "games_wta\n",
      "ID1_G | ID2_G | ID_T_G | ID_R_G | RESULT_G\n",
      "CREATE INDEX IF NOT EXISTS index_ID1_G_games_wta ON games_wta(ID1_G);\n",
      "CREATE INDEX IF NOT EXISTS index_ID2_G_games_wta ON games_wta(ID2_G);\n",
      "CREATE INDEX IF NOT EXISTS index_ID_T_G_games_wta ON games_wta(ID_T_G);\n",
      "CREATE INDEX IF NOT EXISTS index_ID_R_G_games_wta ON games_wta(ID_R_G);\n",
      "\n",
      "injury_wta\n",
      "ID_P_I | DATE_I | INJURY_I\n",
      "CREATE INDEX IF NOT EXISTS index_ID_P_I_injury_wta ON injury_wta(ID_P_I);\n",
      "\n",
      "links\n",
      "ID | LANG_ID | CATEGORY\n",
      "CREATE INDEX IF NOT EXISTS index_ID_links ON links(ID);\n",
      "CREATE INDEX IF NOT EXISTS index_LANG_ID_links ON links(LANG_ID);\n",
      "\n",
      "odds_atp\n",
      "ID_B_O | ID1_O | ID2_O | ID_T_O | ID_R_O | K1 | K2 | TOTAL | KTM | KTB | F1 | F2 | KF1 | KF2 | K20 | K21 | K12 | K02 | K30 | K31 | K32 | K23 | K13 | K03\n",
      "CREATE INDEX IF NOT EXISTS index_ID_B_O_odds_atp ON odds_atp(ID_B_O);\n",
      "CREATE INDEX IF NOT EXISTS index_ID1_O_odds_atp ON odds_atp(ID1_O);\n",
      "CREATE INDEX IF NOT EXISTS index_ID2_O_odds_atp ON odds_atp(ID2_O);\n",
      "CREATE INDEX IF NOT EXISTS index_ID_T_O_odds_atp ON odds_atp(ID_T_O);\n",
      "CREATE INDEX IF NOT EXISTS index_ID_R_O_odds_atp ON odds_atp(ID_R_O);\n",
      "\n",
      "odds_mxt\n",
      "ID_B_O | ID1_O | ID2_O | ID_T_O | ID_R_O | K1 | K2 | TOTAL | KTM | KTB | F1 | F2 | KF1 | KF2 | K20 | K21 | K12 | K02 | K30 | K31 | K32 | K23 | K13 | K03\n",
      "CREATE INDEX IF NOT EXISTS index_ID_B_O_odds_mxt ON odds_mxt(ID_B_O);\n",
      "CREATE INDEX IF NOT EXISTS index_ID1_O_odds_mxt ON odds_mxt(ID1_O);\n",
      "CREATE INDEX IF NOT EXISTS index_ID2_O_odds_mxt ON odds_mxt(ID2_O);\n",
      "CREATE INDEX IF NOT EXISTS index_ID_T_O_odds_mxt ON odds_mxt(ID_T_O);\n",
      "CREATE INDEX IF NOT EXISTS index_ID_R_O_odds_mxt ON odds_mxt(ID_R_O);\n",
      "\n",
      "players_atp\n",
      "ID_P | NAME_P\n",
      "CREATE INDEX IF NOT EXISTS index_ID_P_players_atp ON players_atp(ID_P);\n",
      "\n",
      "players_mxt\n",
      "ID_P | NAME_P\n",
      "CREATE INDEX IF NOT EXISTS index_ID_P_players_mxt ON players_mxt(ID_P);\n",
      "\n",
      "players_wta\n",
      "ID_P | NAME_P\n",
      "CREATE INDEX IF NOT EXISTS index_ID_P_players_wta ON players_wta(ID_P);\n",
      "\n",
      "points\n",
      "id_pnt | win_pnt | fin_pnt | sem_pnt | qtr_pnt | for_pnt | thr_pnt | sec_pnt | fir_pnt | qlf_pnt | q3_pnt | q2_pnt | q1_pnt\n",
      "\n",
      "ratings_atp\n",
      "DATE_R | ID_P_R | POINT_R | POS_R\n",
      "CREATE INDEX IF NOT EXISTS index_ID_P_R_ratings_atp ON ratings_atp(ID_P_R);\n",
      "\n",
      "ratings_wta\n",
      "DATE_R | ID_P_R | POINT_R | POS_R\n",
      "CREATE INDEX IF NOT EXISTS index_ID_P_R_ratings_wta ON ratings_wta(ID_P_R);\n",
      "\n",
      "rounds\n",
      "ID_R | NAME_R\n",
      "CREATE INDEX IF NOT EXISTS index_ID_R_rounds ON rounds(ID_R);\n",
      "\n",
      "seed_atp\n",
      "ID_P_S | ID_T_S | SEEDING\n",
      "CREATE INDEX IF NOT EXISTS index_ID_P_S_seed_atp ON seed_atp(ID_P_S);\n",
      "CREATE INDEX IF NOT EXISTS index_ID_T_S_seed_atp ON seed_atp(ID_T_S);\n",
      "\n",
      "seed_wta\n",
      "ID_P_S | ID_T_S | SEEDING\n",
      "CREATE INDEX IF NOT EXISTS index_ID_P_S_seed_wta ON seed_wta(ID_P_S);\n",
      "CREATE INDEX IF NOT EXISTS index_ID_T_S_seed_wta ON seed_wta(ID_T_S);\n",
      "\n",
      "stat_atp\n",
      "ID1 | ID2 | ID_T | ID_R | FS_1 | FSOF_1 | ACES_1 | DF_1 | UE_1 | W1S_1 | W1SOF_1 | W2S_1 | W2SOF_1 | WIS_1 | BP_1 | BPOF_1 | NA_1 | NAOF_1 | TPW_1 | FAST_1 | A1S_1 | A2S_1 | FS_2 | FSOF_2 | ACES_2 | DF_2 | UE_2 | W1S_2 | W1SOF_2 | W2S_2 | W2SOF_2 | WIS_2 | BP_2 | BPOF_2 | NA_2 | NAOF_2 | TPW_2 | FAST_2 | A1S_2 | A2S_2 | RPW_1 | RPWOF_1 | RPW_2 | RPWOF_2 | MT\n",
      "CREATE INDEX IF NOT EXISTS index_ID1_stat_atp ON stat_atp(ID1);\n",
      "CREATE INDEX IF NOT EXISTS index_ID2_stat_atp ON stat_atp(ID2);\n",
      "CREATE INDEX IF NOT EXISTS index_ID_T_stat_atp ON stat_atp(ID_T);\n",
      "CREATE INDEX IF NOT EXISTS index_ID_R_stat_atp ON stat_atp(ID_R);\n",
      "\n",
      "stat_mxt\n",
      "ID1 | ID2 | ID_T | ID_R | FS_1 | FSOF_1 | ACES_1 | DF_1 | UE_1 | W1S_1 | W1SOF_1 | W2S_1 | W2SOF_1 | WIS_1 | BP_1 | BPOF_1 | NA_1 | NAOF_1 | TPW_1 | FAST_1 | A1S_1 | A2S_1 | FS_2 | FSOF_2 | ACES_2 | DF_2 | UE_2 | W1S_2 | W1SOF_2 | W2S_2 | W2SOF_2 | WIS_2 | BP_2 | BPOF_2 | NA_2 | NAOF_2 | TPW_2 | FAST_2 | A1S_2 | A2S_2 | RPW_1 | RPWOF_1 | RPW_2 | RPWOF_2 | MT\n",
      "CREATE INDEX IF NOT EXISTS index_ID1_stat_mxt ON stat_mxt(ID1);\n",
      "CREATE INDEX IF NOT EXISTS index_ID2_stat_mxt ON stat_mxt(ID2);\n",
      "CREATE INDEX IF NOT EXISTS index_ID_T_stat_mxt ON stat_mxt(ID_T);\n",
      "CREATE INDEX IF NOT EXISTS index_ID_R_stat_mxt ON stat_mxt(ID_R);\n",
      "\n",
      "stat_wta\n",
      "ID1 | ID2 | ID_T | ID_R | FS_1 | FSOF_1 | ACES_1 | DF_1 | UE_1 | W1S_1 | W1SOF_1 | W2S_1 | W2SOF_1 | WIS_1 | BP_1 | BPOF_1 | NA_1 | NAOF_1 | TPW_1 | FAST_1 | A1S_1 | A2S_1 | FS_2 | FSOF_2 | ACES_2 | DF_2 | UE_2 | W1S_2 | W1SOF_2 | W2S_2 | W2SOF_2 | WIS_2 | BP_2 | BPOF_2 | NA_2 | NAOF_2 | TPW_2 | FAST_2 | A1S_2 | A2S_2 | RPW_1 | RPWOF_1 | RPW_2 | RPWOF_2 | MT\n",
      "CREATE INDEX IF NOT EXISTS index_ID1_stat_wta ON stat_wta(ID1);\n",
      "CREATE INDEX IF NOT EXISTS index_ID2_stat_wta ON stat_wta(ID2);\n",
      "CREATE INDEX IF NOT EXISTS index_ID_T_stat_wta ON stat_wta(ID_T);\n",
      "CREATE INDEX IF NOT EXISTS index_ID_R_stat_wta ON stat_wta(ID_R);\n",
      "\n",
      "today_atp\n",
      "TOUR | DATE_GAME | ID1 | ID2 | ROUND | DRAW | RESULT\n",
      "CREATE INDEX IF NOT EXISTS index_ID1_today_atp ON today_atp(ID1);\n",
      "CREATE INDEX IF NOT EXISTS index_ID2_today_atp ON today_atp(ID2);\n",
      "\n",
      "today_mxt\n",
      "TOUR | DATE_GAME | ID1 | ID2 | ROUND | DRAW | RESULT\n",
      "CREATE INDEX IF NOT EXISTS index_ID1_today_mxt ON today_mxt(ID1);\n",
      "CREATE INDEX IF NOT EXISTS index_ID2_today_mxt ON today_mxt(ID2);\n",
      "\n",
      "today_wta\n",
      "TOUR | DATE_GAME | ID1 | ID2 | ROUND | DRAW | RESULT\n",
      "CREATE INDEX IF NOT EXISTS index_ID1_today_wta ON today_wta(ID1);\n",
      "CREATE INDEX IF NOT EXISTS index_ID2_today_wta ON today_wta(ID2);\n",
      "\n",
      "tours_atp\n",
      "ID_T | NAME_T\n",
      "CREATE INDEX IF NOT EXISTS index_ID_T_tours_atp ON tours_atp(ID_T);\n",
      "\n",
      "tours_mxt\n",
      "ID_T | NAME_T\n",
      "CREATE INDEX IF NOT EXISTS index_ID_T_tours_mxt ON tours_mxt(ID_T);\n",
      "\n",
      "tours_wta\n",
      "ID_T | NAME_T\n",
      "CREATE INDEX IF NOT EXISTS index_ID_T_tours_wta ON tours_wta(ID_T);\n",
      "\n",
      "url\n",
      "ID_URL | LINK_URL\n",
      "CREATE INDEX IF NOT EXISTS index_ID_URL_url ON url(ID_URL);\n",
      "\n",
      "version\n",
      "VER\n",
      "\n",
      "courts\n",
      "ID_C | NAME_C\n",
      "CREATE INDEX IF NOT EXISTS index_ID_C_courts ON courts(ID_C);\n",
      "\n",
      "injury_atp\n",
      "ID_P_I | DATE_I | INJURY_I\n",
      "CREATE INDEX IF NOT EXISTS index_ID_P_I_injury_atp ON injury_atp(ID_P_I);\n",
      "\n",
      "odds_wta\n",
      "ID_B_O | ID1_O | ID2_O | ID_T_O | ID_R_O | K1 | K2 | TOTAL | KTM | KTB | F1 | F2 | KF1 | KF2 | K20 | K21 | K12 | K02 | K30 | K31 | K32 | K23 | K13 | K03\n",
      "CREATE INDEX IF NOT EXISTS index_ID_B_O_odds_wta ON odds_wta(ID_B_O);\n",
      "CREATE INDEX IF NOT EXISTS index_ID1_O_odds_wta ON odds_wta(ID1_O);\n",
      "CREATE INDEX IF NOT EXISTS index_ID2_O_odds_wta ON odds_wta(ID2_O);\n",
      "CREATE INDEX IF NOT EXISTS index_ID_T_O_odds_wta ON odds_wta(ID_T_O);\n",
      "CREATE INDEX IF NOT EXISTS index_ID_R_O_odds_wta ON odds_wta(ID_R_O);\n",
      "\n",
      "seed_mxt\n",
      "ID_P_S | ID_T_S | SEEDING\n",
      "CREATE INDEX IF NOT EXISTS index_ID_P_S_seed_mxt ON seed_mxt(ID_P_S);\n",
      "CREATE INDEX IF NOT EXISTS index_ID_T_S_seed_mxt ON seed_mxt(ID_T_S);\n"
     ]
    }
   ],
   "source": [
    "for i in range(len(schema)):\n",
    "    print()\n",
    "    table_name = schema[i][1]\n",
    "    table_columns = schema[i][-1]\n",
    "    cols = table_columns.split('(')[1][:-1]\n",
    "    cols = list(map(lambda r: r.strip().split('\t\t\t')[0].replace('`', ''), cols.split(',')))\n",
    "    print(table_name)\n",
    "    print(' | '.join(cols))\n",
    "    for col in cols:\n",
    "        if 'ID' in col:\n",
    "            statement = \"CREATE INDEX IF NOT EXISTS index_{1}_{0} ON {0}({1});\".format(table_name, col)\n",
    "            try:\n",
    "                cursor.execute(statement)\n",
    "            except Exception as e:\n",
    "                print('! error in index statement', e)\n",
    "            print(statement)\n",
    "            \n",
    "    "
   ]
  },
  {
   "cell_type": "code",
   "execution_count": 77,
   "metadata": {
    "collapsed": false
   },
   "outputs": [],
   "source": [
    "con.commit()"
   ]
  },
  {
   "cell_type": "code",
   "execution_count": null,
   "metadata": {
    "collapsed": true
   },
   "outputs": [],
   "source": [
    "con.commi"
   ]
  }
 ],
 "metadata": {
  "kernelspec": {
   "display_name": "Python [conda root]",
   "language": "python",
   "name": "conda-root-py"
  },
  "language_info": {
   "codemirror_mode": {
    "name": "ipython",
    "version": 3
   },
   "file_extension": ".py",
   "mimetype": "text/x-python",
   "name": "python",
   "nbconvert_exporter": "python",
   "pygments_lexer": "ipython3",
   "version": "3.5.2"
  }
 },
 "nbformat": 4,
 "nbformat_minor": 2
}
